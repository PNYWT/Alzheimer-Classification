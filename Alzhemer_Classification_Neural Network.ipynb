{
 "cells": [
  {
   "cell_type": "code",
   "execution_count": null,
   "id": "bb0f52f1",
   "metadata": {},
   "outputs": [],
   "source": [
    "import pandas as pd\n",
    "import numpy as np"
   ]
  },
  {
   "cell_type": "code",
   "execution_count": null,
   "id": "ba90cb18",
   "metadata": {
    "scrolled": true
   },
   "outputs": [],
   "source": [
    "dataSet = pd.read_csv(\"Alzheimer.csv\")\n",
    "dataSet"
   ]
  },
  {
   "cell_type": "markdown",
   "id": "e21901c3",
   "metadata": {},
   "source": []
  },
  {
   "cell_type": "markdown",
   "id": "d6ab9e84",
   "metadata": {},
   "source": [
    "# MARK: Data Processing"
   ]
  },
  {
   "cell_type": "code",
   "execution_count": null,
   "id": "f0f95dcd",
   "metadata": {},
   "outputs": [],
   "source": [
    "dataSet.info()"
   ]
  },
  {
   "cell_type": "code",
   "execution_count": null,
   "id": "c1b3d774",
   "metadata": {
    "scrolled": true
   },
   "outputs": [],
   "source": [
    "dataSet.isna().sum()"
   ]
  },
  {
   "cell_type": "markdown",
   "id": "39ed26f5",
   "metadata": {},
   "source": [
    "### MARK: เลือกที่จะ drop ทิ้งเพราะว่า Null มีจำนวนไม่เยอะมาก ไม่มีผลต่อ data เท่าที่ควร และ ไม่สามารถหาค่า BMI มาแทนที่ได้เพราะไม่มี weight และ height ของผู้ป่วย"
   ]
  },
  {
   "cell_type": "code",
   "execution_count": null,
   "id": "8852d353",
   "metadata": {},
   "outputs": [],
   "source": [
    "dataSet = dataSet.dropna()\n",
    "dataSet.isna().sum()"
   ]
  },
  {
   "cell_type": "markdown",
   "id": "6d91ea0d",
   "metadata": {},
   "source": [
    "### MARK: ตรวจสอบ Class Target จำนวนเหมาะสมกันหรือไม่"
   ]
  },
  {
   "cell_type": "code",
   "execution_count": null,
   "id": "227fd6c1",
   "metadata": {},
   "outputs": [],
   "source": [
    "print(\"Target == 1 ->\", len(dataSet.loc[dataSet[\"alzheimer\"] == 1, \"alzheimer\"]))"
   ]
  },
  {
   "cell_type": "code",
   "execution_count": null,
   "id": "da9166cc",
   "metadata": {},
   "outputs": [],
   "source": [
    "print(\"Target == 1 ->\", len(dataSet.loc[dataSet[\"alzheimer\"] == 0, \"alzheimer\"]))"
   ]
  },
  {
   "cell_type": "markdown",
   "id": "d68cb063",
   "metadata": {},
   "source": [
    "### MARK: ปรับข้อมูล เป็น 0,1 <- LabelEncoder"
   ]
  },
  {
   "cell_type": "code",
   "execution_count": null,
   "id": "3ab0cef5",
   "metadata": {},
   "outputs": [],
   "source": [
    "from sklearn.preprocessing import LabelEncoder"
   ]
  },
  {
   "cell_type": "code",
   "execution_count": null,
   "id": "3d31cbf6",
   "metadata": {
    "scrolled": true
   },
   "outputs": [],
   "source": [
    "dataSet.head()"
   ]
  },
  {
   "cell_type": "code",
   "execution_count": null,
   "id": "5a9a27ee",
   "metadata": {},
   "outputs": [],
   "source": [
    "label_encoder = LabelEncoder()"
   ]
  },
  {
   "cell_type": "code",
   "execution_count": null,
   "id": "e91b9e11",
   "metadata": {},
   "outputs": [],
   "source": [
    "dataSet['Education'] = label_encoder.fit_transform(dataSet['Education'])\n",
    "dataSet['family history'] = label_encoder.fit_transform(dataSet['family history'])\n",
    "dataSet['Occupation'] = label_encoder.fit_transform(dataSet['Occupation'])\n",
    "dataSet['Triglycerides'] = label_encoder.fit_transform(dataSet['Triglycerides'])\n",
    "dataSet['smoking_status'] = label_encoder.fit_transform(dataSet['smoking_status'])"
   ]
  },
  {
   "cell_type": "code",
   "execution_count": null,
   "id": "372341f3",
   "metadata": {},
   "outputs": [],
   "source": [
    "dataSet"
   ]
  },
  {
   "cell_type": "markdown",
   "id": "2683406e",
   "metadata": {},
   "source": [
    "# MARK: แบ่งข้อมูล"
   ]
  },
  {
   "cell_type": "code",
   "execution_count": null,
   "id": "83a1bbd7",
   "metadata": {},
   "outputs": [],
   "source": [
    "from sklearn.model_selection import train_test_split\n",
    "from sklearn.metrics import accuracy_score, classification_report"
   ]
  },
  {
   "cell_type": "markdown",
   "id": "8ea59e76",
   "metadata": {},
   "source": [
    "### MARK: train_test_split"
   ]
  },
  {
   "cell_type": "code",
   "execution_count": null,
   "id": "5305af00",
   "metadata": {},
   "outputs": [],
   "source": [
    "X = dataSet.drop('alzheimer', axis=1)\n",
    "y = dataSet[\"alzheimer\"]\n",
    "X_train, X_test, y_train, y_test = train_test_split(X, y, test_size=0.3, random_state=42)"
   ]
  },
  {
   "cell_type": "code",
   "execution_count": null,
   "id": "cc0ac43b",
   "metadata": {
    "scrolled": true
   },
   "outputs": [],
   "source": [
    "X_train.head()"
   ]
  },
  {
   "cell_type": "code",
   "execution_count": null,
   "id": "64e5ca75",
   "metadata": {},
   "outputs": [],
   "source": [
    "X_train.info()"
   ]
  },
  {
   "cell_type": "code",
   "execution_count": null,
   "id": "6da03fde",
   "metadata": {
    "scrolled": true
   },
   "outputs": [],
   "source": [
    "y_train.info()"
   ]
  },
  {
   "cell_type": "markdown",
   "id": "9e0a1aca",
   "metadata": {},
   "source": [
    "### SMOTE (Synthetic Minority Over-sampling Technique): วิธีการที่ใช้การสร้างตัวอย่างสัญญาณเทียบเท่าจากคลาสน้อยโดยการผสมคุณลักษณะของตัวอย่างในคลาสน้อย"
   ]
  },
  {
   "cell_type": "code",
   "execution_count": null,
   "id": "df407a27",
   "metadata": {},
   "outputs": [],
   "source": [
    "from imblearn.over_sampling import SMOTE\n",
    "from sklearn.preprocessing import StandardScaler"
   ]
  },
  {
   "cell_type": "code",
   "execution_count": null,
   "id": "62be2d80",
   "metadata": {},
   "outputs": [],
   "source": [
    "smote = SMOTE(random_state=42)\n",
    "X_train_smote, y_train_smote = smote.fit_resample(X_train, y_train)"
   ]
  },
  {
   "cell_type": "markdown",
   "id": "62587b7e",
   "metadata": {},
   "source": [
    "## MARK: ทำ scaler"
   ]
  },
  {
   "cell_type": "code",
   "execution_count": null,
   "id": "054855ff",
   "metadata": {},
   "outputs": [],
   "source": [
    "scaler = StandardScaler()"
   ]
  },
  {
   "cell_type": "code",
   "execution_count": null,
   "id": "b775f5bb",
   "metadata": {},
   "outputs": [],
   "source": [
    "X_train_scaled = scaler.fit_transform(X_train_smote)\n",
    "X_test_scaled = scaler.transform(X_test)"
   ]
  },
  {
   "cell_type": "markdown",
   "id": "1d8c41ff",
   "metadata": {},
   "source": [
    "# Model Neural Network"
   ]
  },
  {
   "cell_type": "code",
   "execution_count": null,
   "id": "60fed4c3",
   "metadata": {},
   "outputs": [],
   "source": [
    "from sklearn.neural_network import MLPClassifier"
   ]
  },
  {
   "cell_type": "code",
   "execution_count": null,
   "id": "724e2688",
   "metadata": {},
   "outputs": [],
   "source": [
    "nnModel = MLPClassifier(hidden_layer_sizes=(100, 50), max_iter=1000, random_state=42)"
   ]
  },
  {
   "cell_type": "code",
   "execution_count": null,
   "id": "b28b51ae",
   "metadata": {},
   "outputs": [],
   "source": [
    "nnModel.fit(X_train_scaled, y_train_smote)"
   ]
  },
  {
   "cell_type": "code",
   "execution_count": null,
   "id": "b03abbf7",
   "metadata": {},
   "outputs": [],
   "source": [
    "print(\"ตัวอย่างข้อมูลเรียนรู้ ->\",nnModel.score(X_train_scaled,y_train_smote))"
   ]
  },
  {
   "cell_type": "code",
   "execution_count": null,
   "id": "482b24f5",
   "metadata": {},
   "outputs": [],
   "source": [
    "y_pred = nnModel.predict(X_test_scaled)\n",
    "print(\"ตัวอย่างข้อมูลชุดทดสอบ ->\",accuracy_score(y_test, y_pred))"
   ]
  },
  {
   "cell_type": "code",
   "execution_count": null,
   "id": "0c1857de",
   "metadata": {},
   "outputs": [],
   "source": [
    "pd.crosstab(y_test, y_pred)"
   ]
  },
  {
   "cell_type": "code",
   "execution_count": null,
   "id": "ba585eed",
   "metadata": {},
   "outputs": [],
   "source": [
    "print(\"Classification Report:\\n\", classification_report(y_test, y_pred))"
   ]
  },
  {
   "cell_type": "markdown",
   "id": "a7c77157",
   "metadata": {},
   "source": [
    "## MARK: หา Best Parameter"
   ]
  },
  {
   "cell_type": "code",
   "execution_count": null,
   "id": "3cba6140",
   "metadata": {},
   "outputs": [],
   "source": [
    "from sklearn.model_selection import GridSearchCV"
   ]
  },
  {
   "cell_type": "code",
   "execution_count": null,
   "id": "9c0ec978",
   "metadata": {},
   "outputs": [],
   "source": [
    "param_grid = {\n",
    "    'hidden_layer_sizes': [(100,), (50, 50), (100, 50), (50, 100)],\n",
    "    'activation': ['logistic', 'relu'],\n",
    "    'alpha': [0.0001, 0.001, 0.01, 0.1],\n",
    "    'solver': ['sgd', 'adam'],\n",
    "    'learning_rate': ['constant', 'invscaling', 'adaptive'],\n",
    "}\n",
    "#     'max_iter': [500, 700, 1000],"
   ]
  },
  {
   "cell_type": "code",
   "execution_count": null,
   "id": "81c06eff",
   "metadata": {},
   "outputs": [],
   "source": [
    "mlp = MLPClassifier(random_state=42)"
   ]
  },
  {
   "cell_type": "code",
   "execution_count": null,
   "id": "3abbac52",
   "metadata": {},
   "outputs": [],
   "source": [
    "grid_search = GridSearchCV(mlp, param_grid, cv=10, scoring='accuracy')\n",
    "grid_result = grid_search.fit(X_train_scaled, y_train_smote)\n",
    "grid_result"
   ]
  },
  {
   "cell_type": "code",
   "execution_count": null,
   "id": "95e3f7b1",
   "metadata": {},
   "outputs": [],
   "source": [
    "best_params = grid_search.best_params_\n",
    "print(\"Best Parameters:\", best_params)"
   ]
  },
  {
   "cell_type": "code",
   "execution_count": null,
   "id": "ae7bea40",
   "metadata": {},
   "outputs": [],
   "source": [
    "best_accuracy = grid_search.best_score_\n",
    "print(\"Best Accuracy:\", best_accuracy)"
   ]
  },
  {
   "cell_type": "code",
   "execution_count": null,
   "id": "ad0fb00a",
   "metadata": {},
   "outputs": [],
   "source": [
    "# nn_model = MLPClassifier(**best_params, random_state=42) \n",
    "nn_model = MLPClassifier(**best_params, max_iter=1000, random_state=42)"
   ]
  },
  {
   "cell_type": "code",
   "execution_count": null,
   "id": "8570fde9",
   "metadata": {},
   "outputs": [],
   "source": [
    "nn_model.fit(X_train_scaled, y_train_smote)"
   ]
  },
  {
   "cell_type": "code",
   "execution_count": null,
   "id": "b000ebf1",
   "metadata": {},
   "outputs": [],
   "source": [
    "print(\"ตัวอย่างข้อมูลเรียนรู้ ->\",nn_model.score(X_train_scaled,y_train_smote))"
   ]
  },
  {
   "cell_type": "code",
   "execution_count": null,
   "id": "02498f34",
   "metadata": {},
   "outputs": [],
   "source": [
    "y_pred = nn_model.predict(X_test_scaled)\n",
    "print(\"ตัวอย่างข้อมูลชุดทดสอบ ->\",accuracy_score(y_test, y_pred))"
   ]
  },
  {
   "cell_type": "code",
   "execution_count": null,
   "id": "d89790d4",
   "metadata": {},
   "outputs": [],
   "source": [
    "pd.crosstab(y_test, y_pred)"
   ]
  },
  {
   "cell_type": "code",
   "execution_count": null,
   "id": "3424a275",
   "metadata": {},
   "outputs": [],
   "source": [
    "print(\"Classification Report:\\n\", classification_report(y_test, y_pred))"
   ]
  }
 ],
 "metadata": {
  "kernelspec": {
   "display_name": "Python 3 (ipykernel)",
   "language": "python",
   "name": "python3"
  },
  "language_info": {
   "codemirror_mode": {
    "name": "ipython",
    "version": 3
   },
   "file_extension": ".py",
   "mimetype": "text/x-python",
   "name": "python",
   "nbconvert_exporter": "python",
   "pygments_lexer": "ipython3",
   "version": "3.8.17"
  },
  "varInspector": {
   "cols": {
    "lenName": 16,
    "lenType": 16,
    "lenVar": 40
   },
   "kernels_config": {
    "python": {
     "delete_cmd_postfix": "",
     "delete_cmd_prefix": "del ",
     "library": "var_list.py",
     "varRefreshCmd": "print(var_dic_list())"
    },
    "r": {
     "delete_cmd_postfix": ") ",
     "delete_cmd_prefix": "rm(",
     "library": "var_list.r",
     "varRefreshCmd": "cat(var_dic_list()) "
    }
   },
   "types_to_exclude": [
    "module",
    "function",
    "builtin_function_or_method",
    "instance",
    "_Feature"
   ],
   "window_display": false
  }
 },
 "nbformat": 4,
 "nbformat_minor": 5
}
